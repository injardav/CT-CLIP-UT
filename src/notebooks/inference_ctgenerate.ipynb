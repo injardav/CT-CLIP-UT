{
 "cells": [
  {
   "cell_type": "code",
   "execution_count": 9,
   "metadata": {},
   "outputs": [],
   "source": [
    "import sys\n",
    "import os\n",
    "sys.path.append(os.path.abspath(\"..\"))"
   ]
  },
  {
   "cell_type": "code",
   "execution_count": 10,
   "metadata": {},
   "outputs": [
    {
     "name": "stdout",
     "output_type": "stream",
     "text": [
      "The autoreload extension is already loaded. To reload it, use:\n",
      "  %reload_ext autoreload\n",
      "Validation size: 10\n",
      "CTGENERATE inference started\n",
      "Computing cross_attention for ('valid_852_a_2',) with pathology: Pleural effusion\n",
      "cross_attention shape torch.Size([1, 8, 6464, 4])\n",
      "Computing cross_attention for ('valid_183_a_1',) with pathology: Hiatal hernia\n",
      "cross_attention shape torch.Size([1, 8, 6464, 7])\n",
      "Computing cross_attention for ('valid_183_a_2',) with pathology: Hiatal hernia\n",
      "cross_attention shape torch.Size([1, 8, 6464, 7])\n",
      "Computing cross_attention for ('valid_852_a_1',) with pathology: Pleural effusion\n",
      "cross_attention shape torch.Size([1, 8, 6464, 4])\n",
      "CTGENERATE inference completed. Total inference Time: 0:03:10.080920\n"
     ]
    }
   ],
   "source": [
    "%load_ext autoreload\n",
    "%autoreload 2\n",
    "\n",
    "import warnings\n",
    "import torch\n",
    "from models.ctgenerate import CTGENERATE\n",
    "from utils.CTGenerateInference import CTGenerateInference\n",
    "from utils.ctvit import CTViT\n",
    "from utils.maskgit import MaskGit\n",
    "from utils.t5 import T5Encoder\n",
    "\n",
    "warnings.simplefilter(\"ignore\")\n",
    "torch.set_printoptions(profile=\"default\")\n",
    "torch.autograd.set_detect_anomaly(False)\n",
    "\n",
    "ctvit = CTViT(\n",
    "    dim = 512,\n",
    "    codebook_size = 8192,\n",
    "    image_size = 128,\n",
    "    patch_size = 16,\n",
    "    temporal_patch_size = 2,\n",
    "    spatial_depth = 4,\n",
    "    temporal_depth = 4,\n",
    "    dim_head = 32,\n",
    "    heads = 8,\n",
    "    model_type = \"ctgenerate\"\n",
    ")\n",
    "\n",
    "maskgit = MaskGit(\n",
    "    num_tokens=8192,\n",
    "    max_seq_len=10000,\n",
    "    dim=512,\n",
    "    dim_context=768,\n",
    "    depth=6,\n",
    ")\n",
    "\n",
    "t5 = T5Encoder()\n",
    "\n",
    "ctgenerate = CTGENERATE(\n",
    "    ctvit=ctvit,\n",
    "    maskgit=maskgit,\n",
    "    t5=t5\n",
    ")\n",
    "ctgenerate.load(\"/project/project_465001111/ct_clip/pretrained_models/ctgenerate_filtered.pt\", strict=False)\n",
    "\n",
    "inference = CTGenerateInference(\n",
    "    ctgenerate,\n",
    "    valid_reports = \"/project/project_465001111/ct_clip/CT-CLIP-UT/reports/valid_reports.csv\",\n",
    "    data_valid = \"/scratch/project_465001111/ct_clip/data_volumes/dataset/valid\",\n",
    "    valid_labels = \"/project/project_465001111/ct_clip/CT-CLIP-UT/labels/valid_labels.csv\",\n",
    "    valid_metadata = \"/project/project_465001111/ct_clip/CT-CLIP-UT/metadata/valid_metadata.csv\",\n",
    "    results_folder = \"/project/project_465001111/ct_clip/CT-CLIP-UT/src/results/valid/ctgenerate\",\n",
    "    batch_size = 1,\n",
    "    num_workers = 4,\n",
    "    num_valid_samples = 10\n",
    ")\n",
    "\n",
    "inference.infer()\n"
   ]
  },
  {
   "cell_type": "code",
   "execution_count": null,
   "metadata": {},
   "outputs": [],
   "source": []
  }
 ],
 "metadata": {
  "kernelspec": {
   "display_name": "Python 3",
   "language": "python",
   "name": "python3"
  },
  "language_info": {
   "codemirror_mode": {
    "name": "ipython",
    "version": 3
   },
   "file_extension": ".py",
   "mimetype": "text/x-python",
   "name": "python",
   "nbconvert_exporter": "python",
   "pygments_lexer": "ipython3",
   "version": "3.10.16"
  }
 },
 "nbformat": 4,
 "nbformat_minor": 4
}
